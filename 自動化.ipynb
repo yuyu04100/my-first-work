{
 "cells": [
  {
   "cell_type": "code",
   "execution_count": null,
   "id": "9cc42578",
   "metadata": {},
   "outputs": [],
   "source": [
    "import openpyxl\n",
    "wb1 = openpyxl.load_workbook(\"入力先ファイル.xlsx\")\n",
    "wb2 = openpyxl.load_workbook(\"結果(アンケ形式)ファイル.xlsx\")\n",
    "\n",
    "sheet = []\n",
    "ws2 = wb2['Sheet1']\n",
    "invoice_gyo = []\n",
    "co = []\n",
    "for l in range(2,200):#アンケのデータの行\n",
    "    co.append(l)\n",
    "for j in range(10,35):#入力先のコマ数の欄\n",
    "    invoice_gyo.append(j)\n",
    "for i in range(4,32):\n",
    "\n",
    "    sheet.append(wb1.worksheets[i])\n",
    "#請求書のリストの名前とアンケートの名前を照合する\n",
    "\n",
    "for name in sheet:\n",
    "    for col in co:   #アンケート側の名前を一回ずつ認証し値を入れ\n",
    "        if str(name) == '<Worksheet'+' '+ '\"'+str(ws2.cell(row=col,column=4).value)+'\"'+'>':#人とセルが確定\n",
    "            \n",
    "            for k in invoice_gyo:\n",
    "                if name.cell(row = k, column = 3).value is None:\n",
    "                    name.cell(row = k, column = 3).value =  ws2.cell(row=col,column=5).value#90分\n",
    "                    name.cell(row = k, column = 4).value =  ws2.cell(row=col,column=6).value#40分\n",
    "                    name.cell(row = k, column = 15).value =  ws2.cell(row=col,column=7).value#高校生手当\n",
    "                    name.cell(row = k, column = 1).value =  ws2.cell(row=col,column=1).value#勤務日\n",
    "                    name.cell(row = k, column = 6).value =  ws2.cell(row=col,column=15).value#教室事務\n",
    "                    name.cell(row = k, column = 16).value =  ws2.cell(row=col,column=14).value#送迎手当\n",
    "                    name.cell(row = k, column = 17).value =  ws2.cell(row=col,column=11).value#非課税交通費\n",
    "                    a = ws2.cell(row=col,column=8).value#事務勤務時間開始時刻\n",
    "                    cha = str(a)\n",
    "                    kaisizikokuzi = cha[0:2]\n",
    "                    kaisizikokufu = cha[3:5]\n",
    "                    name.cell(row = k, column = 8).value =  kaisizikokuzi\n",
    "                    name.cell(row = k, column = 10).value = kaisizikokufu\n",
    "                    \n",
    "                    b = ws2.cell(row=col,column=9).value\n",
    "                    cha1 = str(b)\n",
    "                    owarizikokuzi = cha1[0:2]\n",
    "                    owarizikokufu = cha1[3:5]\n",
    "                    name.cell(row = k, column = 12).value =  owarizikokuzi\n",
    "                    name.cell(row = k, column = 14).value = owarizikokufu\n",
    "                    break\n",
    "                    \n",
    "wb1.save('完成したファイル.xlsx')"
   ]
  }
 ],
 "metadata": {
  "kernelspec": {
   "display_name": "Python 3 (ipykernel)",
   "language": "python",
   "name": "python3"
  },
  "language_info": {
   "codemirror_mode": {
    "name": "ipython",
    "version": 3
   },
   "file_extension": ".py",
   "mimetype": "text/x-python",
   "name": "python",
   "nbconvert_exporter": "python",
   "pygments_lexer": "ipython3",
   "version": "3.9.12"
  }
 },
 "nbformat": 4,
 "nbformat_minor": 5
}
